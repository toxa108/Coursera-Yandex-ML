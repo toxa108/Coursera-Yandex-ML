{
 "cells": [
  {
   "cell_type": "code",
   "execution_count": 6,
   "metadata": {},
   "outputs": [
    {
     "name": "stderr",
     "output_type": "stream",
     "text": [
      "/home/toxa/anaconda3/envs/py27/lib/python2.7/site-packages/sklearn/cross_validation.py:41: DeprecationWarning: This module was deprecated in version 0.18 in favor of the model_selection module into which all the refactored classes and functions are moved. Also note that the interface of the new CV iterators are different from that of this module. This module will be removed in 0.20.\n",
      "  \"This module will be removed in 0.20.\", DeprecationWarning)\n"
     ]
    }
   ],
   "source": [
    "import matplotlib.pyplot as plt\n",
    "import numpy as np\n",
    "from sklearn.datasets import load_digits, load_breast_cancer\n",
    "from sklearn.cross_validation import cross_val_score\n",
    "from sklearn.naive_bayes import BernoulliNB, MultinomialNB, GaussianNB"
   ]
  },
  {
   "cell_type": "code",
   "execution_count": 31,
   "metadata": {},
   "outputs": [
    {
     "name": "stdout",
     "output_type": "stream",
     "text": [
      "[[1.799e+01 1.038e+01 1.228e+02 ... 2.654e-01 4.601e-01 1.189e-01]\n",
      " [2.057e+01 1.777e+01 1.329e+02 ... 1.860e-01 2.750e-01 8.902e-02]\n",
      " [1.969e+01 2.125e+01 1.300e+02 ... 2.430e-01 3.613e-01 8.758e-02]\n",
      " ...\n",
      " [1.660e+01 2.808e+01 1.083e+02 ... 1.418e-01 2.218e-01 7.820e-02]\n",
      " [2.060e+01 2.933e+01 1.401e+02 ... 2.650e-01 4.087e-01 1.240e-01]\n",
      " [7.760e+00 2.454e+01 4.792e+01 ... 0.000e+00 2.871e-01 7.039e-02]]\n",
      "[[ 0.  0.  5. ...  0.  0.  0.]\n",
      " [ 0.  0.  0. ... 10.  0.  0.]\n",
      " [ 0.  0.  0. ... 16.  9.  0.]\n",
      " ...\n",
      " [ 0.  0.  1. ...  6.  0.  0.]\n",
      " [ 0.  0.  2. ... 12.  0.  0.]\n",
      " [ 0.  0. 10. ... 12.  1.  0.]]\n",
      "Breast bernulli = 0.6274204028589994\n",
      "Breast multinominal = 0.8945790401930752\n",
      "Breast gausiian = 0.9367492806089297\n",
      "_______\n",
      "Digits bernulli = 0.8258236507780582\n",
      "Digits multinominal = 0.8708771489735053\n",
      "Digits gausiian = 0.8186003803550138\n",
      "_______\n"
     ]
    }
   ],
   "source": [
    "data_breast = load_breast_cancer().data\n",
    "data_digits = load_digits.data\n",
    "target_breast = load_breast_cancer().target\n",
    "target_digits = load_digits.target\n",
    "\n",
    "bernoulliNB = BernoulliNB()\n",
    "multinomialNB = MultinomialNB()\n",
    "gaussianNB = GaussianNB()\n",
    "\n",
    "print (data_breast)\n",
    "print (data_digits)\n",
    "datas = [('Breast', data_breast, target_breast), ('Digits', data_digits, target_digits)]\n",
    "\n",
    "for name, data, target in datas:\n",
    "    score_bernoulli =  cross_val_score(bernoulliNB, data, target)\n",
    "    score_multinomial = cross_val_score(multinomialNB, data, target)\n",
    "    score_gaussian = cross_val_score(gaussianNB, data, target)\n",
    "\n",
    "    print (name + ' bernulli = ' + str(score_bernoulli.mean()))\n",
    "    print (name + ' multinominal = ' + str(score_multinomial.mean()))\n",
    "    print (name + ' gausiian = ' + str(score_gaussian.mean()))\n",
    "    print ('_______')\n"
   ]
  },
  {
   "cell_type": "code",
   "execution_count": null,
   "metadata": {},
   "outputs": [],
   "source": []
  }
 ],
 "metadata": {
  "kernelspec": {
   "display_name": "Python 2",
   "language": "python",
   "name": "python2"
  },
  "language_info": {
   "codemirror_mode": {
    "name": "ipython",
    "version": 2
   },
   "file_extension": ".py",
   "mimetype": "text/x-python",
   "name": "python",
   "nbconvert_exporter": "python",
   "pygments_lexer": "ipython2",
   "version": "2.7.15"
  }
 },
 "nbformat": 4,
 "nbformat_minor": 2
}
